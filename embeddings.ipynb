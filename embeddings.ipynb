{
 "cells": [
  {
   "cell_type": "code",
   "execution_count": 1,
   "metadata": {},
   "outputs": [],
   "source": [
    "import pandas as pd\n",
    "import numpy as np\n",
    "import matplotlib.pyplot as plt\n",
    "\n",
    "import os \n",
    "from dotenv import load_dotenv\n",
    "\n",
    "import requests\n",
    "import json\n",
    "\n",
    "from transformers import pipeline\n",
    "from transformers import AutoTokenizer, TFAutoModelForSeq2SeqLM\n",
    "\n",
    "import tensorflow as tf\n",
    "import tensorflow_hub as hub\n",
    "\n",
    "import openai\n",
    "\n",
    "from sklearn.metrics.pairwise import cosine_similarity\n",
    "\n"
   ]
  },
  {
   "cell_type": "code",
   "execution_count": 2,
   "metadata": {},
   "outputs": [
    {
     "name": "stderr",
     "output_type": "stream",
     "text": [
      "2023-08-30 15:21:10.192037: I metal_plugin/src/device/metal_device.cc:1154] Metal device set to: Apple M1\n",
      "2023-08-30 15:21:10.192067: I metal_plugin/src/device/metal_device.cc:296] systemMemory: 16.00 GB\n",
      "2023-08-30 15:21:10.192074: I metal_plugin/src/device/metal_device.cc:313] maxCacheSize: 5.33 GB\n",
      "2023-08-30 15:21:10.192112: I tensorflow/core/common_runtime/pluggable_device/pluggable_device_factory.cc:303] Could not identify NUMA node of platform GPU ID 0, defaulting to 0. Your kernel may not have been built with NUMA support.\n",
      "2023-08-30 15:21:10.192132: I tensorflow/core/common_runtime/pluggable_device/pluggable_device_factory.cc:269] Created TensorFlow device (/job:localhost/replica:0/task:0/device:GPU:0 with 0 MB memory) -> physical PluggableDevice (device: 0, name: METAL, pci bus id: <undefined>)\n",
      "2023-08-30 15:21:13.962371: I tensorflow/core/grappler/optimizers/custom_graph_optimizer_registry.cc:114] Plugin optimizer for device_type GPU is enabled.\n"
     ]
    }
   ],
   "source": [
    "model_name = \"iarfmoose/t5-base-question-generator\"\n",
    "\n",
    "embed = hub.load(\"https://tfhub.dev/google/universal-sentence-encoder/4\")\n",
    "\n",
    "URL = \"https://api.openai.com/v1/chat/completions\""
   ]
  },
  {
   "cell_type": "code",
   "execution_count": 3,
   "metadata": {},
   "outputs": [],
   "source": [
    "# remove review with too many or too few words. \n",
    "df = pd.read_csv('archive/train_40k.csv')\n",
    "df['text_len'] = df['Text'].apply(len)\n",
    "df = df.sort_values('text_len', ascending=False)\n",
    "df = df.loc[df['text_len'] >= 400] # min words\n",
    "df = df.loc[df['text_len'] <= 1000] # max words"
   ]
  },
  {
   "cell_type": "code",
   "execution_count": 4,
   "metadata": {},
   "outputs": [
    {
     "data": {
      "text/plain": [
       "(array([2631., 2315., 1833., 1527., 1187.,  942.,  842.,  677.,  550.,\n",
       "         500.]),\n",
       " array([ 400.,  460.,  520.,  580.,  640.,  700.,  760.,  820.,  880.,\n",
       "         940., 1000.]),\n",
       " <BarContainer object of 10 artists>)"
      ]
     },
     "execution_count": 4,
     "metadata": {},
     "output_type": "execute_result"
    },
    {
     "data": {
      "image/png": "[encoded data removed]",
      "text/plain": [
       "<Figure size 640x480 with 1 Axes>"
      ]
     },
     "metadata": {},
     "output_type": "display_data"
    }
   ],
   "source": [
    "# historgrams of reviews by text length.\n",
    "plt.hist(df['text_len'], bins = 10)"
   ]
  },
  {
   "cell_type": "code",
   "execution_count": 5,
   "metadata": {},
   "outputs": [],
   "source": [
    "# Reduce data the individual product with the most reviews.\n",
    "most_reviewed = df.groupby('productId')['text_len'].count().idxmax()\n",
    "df = df.loc[df['productId'] == most_reviewed]"
   ]
  },
  {
   "cell_type": "code",
   "execution_count": 6,
   "metadata": {},
   "outputs": [
    {
     "data": {
      "text/plain": [
       "(array([11., 11.,  7.,  9.,  2.,  3.,  4.,  3.,  4.,  2.]),\n",
       " array([409. , 466.3, 523.6, 580.9, 638.2, 695.5, 752.8, 810.1, 867.4,\n",
       "        924.7, 982. ]),\n",
       " <BarContainer object of 10 artists>)"
      ]
     },
     "execution_count": 6,
     "metadata": {},
     "output_type": "execute_result"
    },
    {
     "data": {
      "image/png": "[encoded data removed]",
      "text/plain": [
       "<Figure size 640x480 with 1 Axes>"
      ]
     },
     "metadata": {},
     "output_type": "display_data"
    }
   ],
   "source": [
    "plt.hist(df['text_len'], bins = 10)"
   ]
  },
  {
   "cell_type": "code",
   "execution_count": 7,
   "metadata": {},
   "outputs": [
    {
     "name": "stderr",
     "output_type": "stream",
     "text": [
      "All model checkpoint layers were used when initializing TFT5ForConditionalGeneration.\n",
      "\n",
      "All the layers of TFT5ForConditionalGeneration were initialized from the model checkpoint at iarfmoose/t5-base-question-generator.\n",
      "If your task is similar to the task the model of the checkpoint was trained on, you can already use TFT5ForConditionalGeneration for predictions without further training.\n",
      "You are using the default legacy behaviour of the <class 'transformers.models.t5.tokenization_t5.T5Tokenizer'>. If you see this, DO NOT PANIC! This is expected, and simply means that the `legacy` (previous) behavior will be used so nothing changes for you. If you want to use the new behaviour, set `legacy=True`. This should only be set if you understand what it means, and thouroughly read the reason why this was added as explained in https://github.com/huggingface/transformers/pull/24565\n"
     ]
    }
   ],
   "source": [
    "question_generator = pipeline(model=model_name)"
   ]
  },
  {
   "cell_type": "code",
   "execution_count": 83,
   "metadata": {},
   "outputs": [],
   "source": [
    "# use model to generate questions potentially answered by review content.\n",
    "def generate_questions(input_text):\n",
    "    outputs = question_generator(input_text, num_return_sequences = 3, num_beams = 20, truncation=True)    \n",
    "    generated_questions = []\n",
    "    for index, question in enumerate(outputs):\n",
    "        generated_questions.append(question['generated_text'])\n",
    "    return generated_questions"
   ]
  },
  {
   "cell_type": "code",
   "execution_count": 84,
   "metadata": {},
   "outputs": [],
   "source": [
    "df['questions'] = df['Text'].apply(generate_questions)"
   ]
  },
  {
   "cell_type": "code",
   "execution_count": 85,
   "metadata": {},
   "outputs": [],
   "source": [
    "def question_embedder(question_list):\n",
    "    question_embeddings = []\n",
    "    for question in question_list:\n",
    "        question_embeddings.append(embed([question]).numpy())\n",
    "    return question_embeddings\n",
    "\n",
    "df['question_embeddings'] = df['questions'].apply(question_embedder)"
   ]
  },
  {
   "cell_type": "code",
   "execution_count": 86,
   "metadata": {},
   "outputs": [],
   "source": [
    "topic = df['Title'].iloc[0]\n",
    "query = input(f'Ask us a question about our {topic}.')\n",
    "\n",
    "query_embedding = embed([query]).numpy()"
   ]
  },
  {
   "cell_type": "code",
   "execution_count": 87,
   "metadata": {},
   "outputs": [],
   "source": [
    "def embedding_similarity_test(query_embedding, embedding_list):\n",
    "    temp_similarities = []\n",
    "    for embedding in embedding_list:\n",
    "        similarity = cosine_similarity(query_embedding, embedding)\n",
    "        temp_similarities.append(similarity)\n",
    "    avg_similarity = sum(temp_similarities) / len(temp_similarities)\n",
    "    return avg_similarity\n",
    "\n",
    "df['similarity'] = df['question_embeddings'].apply(lambda x: embedding_similarity_test(query_embedding=query_embedding, embedding_list= x))"
   ]
  },
  {
   "cell_type": "code",
   "execution_count": 88,
   "metadata": {},
   "outputs": [],
   "source": [
    "all_embeddings_list = []\n",
    "for row in df['question_embeddings']:\n",
    "    for embedding in row:\n",
    "        all_embeddings_list.append(embedding)\n",
    "\n",
    "#plt.hist(all_embeddings_list, bins = 10)"
   ]
  },
  {
   "cell_type": "code",
   "execution_count": 89,
   "metadata": {},
   "outputs": [],
   "source": [
    "from sklearn.decomposition import PCA\n",
    "\n",
    "demension_reducer = PCA(n_components=1)\n",
    "\n",
    "dimentionally_reduced_list = demension_reducer.fit_transform(X=np.vstack(all_embeddings_list))\n",
    "\n",
    "#dimentionally_reduced_list = [] \n",
    "#for vector in all_embeddings_list:\n",
    "#    reduced_vector = demension_reducer.fit_transform(vector)\n",
    "#    dimentionally_reduced_list.append(reduced_vector)\n",
    "\n",
    "\n",
    "#for i in dimentionally_reduced_list:\n",
    "#    plt.hist(i, bins = 300)"
   ]
  },
  {
   "cell_type": "code",
   "execution_count": 77,
   "metadata": {},
   "outputs": [
    {
     "data": {
      "text/plain": [
       "array([1.0847515], dtype=float32)"
      ]
     },
     "execution_count": 77,
     "metadata": {},
     "output_type": "execute_result"
    }
   ],
   "source": [
    "#max(dimentionally_reduced_list) - min(dimentionally_reduced_list)"
   ]
  },
  {
   "cell_type": "code",
   "execution_count": 90,
   "metadata": {},
   "outputs": [
    {
     "data": {
      "text/plain": [
       "array([1.0422931], dtype=float32)"
      ]
     },
     "execution_count": 90,
     "metadata": {},
     "output_type": "execute_result"
    }
   ],
   "source": [
    "max(dimentionally_reduced_list) - min(dimentionally_reduced_list)"
   ]
  },
  {
   "cell_type": "code",
   "execution_count": 82,
   "metadata": {},
   "outputs": [
    {
     "data": {
      "text/plain": [
       "(array([45.,  5., 10., 15.,  7., 15.,  7., 12.,  4., 10., 14.,  1.,  4.,\n",
       "         0.,  4.,  7.,  7.,  1.]),\n",
       " array([-0.3511875 , -0.29092354, -0.23065956, -0.17039558, -0.11013162,\n",
       "        -0.04986765,  0.01039632,  0.07066029,  0.13092425,  0.19118823,\n",
       "         0.25145221,  0.31171617,  0.37198013,  0.43224412,  0.49250808,\n",
       "         0.55277205,  0.61303604,  0.67329997,  0.73356396]),\n",
       " <BarContainer object of 18 artists>)"
      ]
     },
     "execution_count": 82,
     "metadata": {},
     "output_type": "execute_result"
    },
    {
     "data": {
      "image/png": "[encoded data removed]",
      "text/plain": [
       "<Figure size 640x480 with 1 Axes>"
      ]
     },
     "metadata": {},
     "output_type": "display_data"
    }
   ],
   "source": [
    "#plt.hist(dimentionally_reduced_list, bins=18)"
   ]
  },
  {
   "cell_type": "code",
   "execution_count": 91,
   "metadata": {},
   "outputs": [
    {
     "data": {
      "text/plain": [
       "(array([42.,  5., 12.,  7., 19.,  4., 14.,  7., 12.,  6., 13.,  5.,  0.,\n",
       "         5.,  0.,  1.,  9.,  7.]),\n",
       " array([-0.35438102, -0.29647586, -0.23857068, -0.18066551, -0.12276033,\n",
       "        -0.06485516, -0.00694998,  0.05095519,  0.10886037,  0.16676554,\n",
       "         0.22467071,  0.28257588,  0.34048107,  0.39838624,  0.45629141,\n",
       "         0.51419657,  0.57210177,  0.63000691,  0.68791211]),\n",
       " <BarContainer object of 18 artists>)"
      ]
     },
     "execution_count": 91,
     "metadata": {},
     "output_type": "execute_result"
    },
    {
     "data": {
      "image/png": "[encoded data removed]",
      "text/plain": [
       "<Figure size 640x480 with 1 Axes>"
      ]
     },
     "metadata": {},
     "output_type": "display_data"
    }
   ],
   "source": [
    "plt.hist(dimentionally_reduced_list, bins=18)"
   ]
  },
  {
   "cell_type": "code",
   "execution_count": 13,
   "metadata": {},
   "outputs": [],
   "source": [
    "df_similarity_sorted = df.sort_values(by='similarity', ascending=False)\n",
    "most_similar_indexes = df_similarity_sorted.index[:3]\n",
    "\n",
    "query_related_text = []\n",
    "for index in most_similar_indexes:\n",
    "    query_related_text.append(f\"{df['Text'].loc[index]}\")"
   ]
  },
  {
   "cell_type": "code",
   "execution_count": 14,
   "metadata": {},
   "outputs": [],
   "source": [
    "load_dotenv()\n",
    "openai.api_key = os.environ.get('api_key')\n",
    "\n",
    "prompt = f'''You are a firendly product expert. I ask the question {query}. \n",
    "Please read the following text: {query_related_text}, and give a max 3 sentance summary \n",
    "response using only the text given. If the question does not seem to \n",
    "match with the availble information, tell me explicitly and also mention the sections \n",
    "of the question which do not match. Do not mention that you are referencing any text. \n",
    "YOU are the expert. '''\n",
    "\n",
    "messages = [\n",
    "    {\"role\": \"system\", \"content\": prompt},\n",
    "    {\"role\": \"user\", \"content\": 'start'}\n",
    "]\n",
    "\n",
    "payload = {\n",
    "    'model': 'gpt-3.5-turbo',\n",
    "    'messages': messages,\n",
    "    \"temperature\" : 1.0,\n",
    "    \"top_p\":1.0,\n",
    "    \"n\" : 1,\n",
    "    \"stream\": False,\n",
    "    \"presence_penalty\":0.1,\n",
    "    \"frequency_penalty\":0.1,\n",
    "}\n",
    "\n",
    "headers = {\n",
    "\"Content-Type\": \"application/json\",\n",
    "\"Authorization\": f\"Bearer {openai.api_key}\"\n",
    "}"
   ]
  },
  {
   "cell_type": "code",
   "execution_count": 15,
   "metadata": {},
   "outputs": [
    {
     "name": "stdout",
     "output_type": "stream",
     "text": [
      "Based on the available information, there is no specific mention of the exact number of diapers the diaper pail can hold. However, multiple reviews highlight that it can hold a lot of diapers and is capable of fixing any problems if one gets stuck. It is also mentioned that the diaper pail can be easily operated with one hand, allowing parents to hold onto their baby.\n"
     ]
    }
   ],
   "source": [
    "response = requests.post(URL, headers=headers, json=payload, stream=False)\n",
    "parsed_response = json.loads(response.content)\n",
    "reply = parsed_response['choices'][0]['message']\n",
    "reply_content = reply['content']\n",
    "\n",
    "print(reply_content)\n"
   ]
  }
 ],
 "metadata": {
  "kernelspec": {
   "display_name": "venv",
   "language": "python",
   "name": "python3"
  },
  "language_info": {
   "codemirror_mode": {
    "name": "ipython",
    "version": 3
   },
   "file_extension": ".py",
   "mimetype": "text/x-python",
   "name": "python",
   "nbconvert_exporter": "python",
   "pygments_lexer": "ipython3",
   "version": "3.11.3"
  },
  "orig_nbformat": 4
 },
 "nbformat": 4,
 "nbformat_minor": 2
}
