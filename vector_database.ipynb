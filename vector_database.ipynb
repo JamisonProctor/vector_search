{
 "cells": [
  {
   "cell_type": "code",
   "execution_count": 1,
   "metadata": {},
   "outputs": [],
   "source": [
    "import pandas as pd\n",
    "import numpy as np\n",
    "import matplotlib.pyplot as plt\n",
    "\n",
    "import os \n",
    "\n",
    "import requests\n",
    "import json\n",
    "\n",
    "from transformers import pipeline\n",
    "from transformers import AutoTokenizer, TFAutoModelForSeq2SeqLM\n",
    "\n",
    "import tensorflow as tf\n",
    "import tensorflow_hub as hub\n",
    "\n",
    "import openai\n",
    "\n",
    "from sklearn.metrics.pairwise import cosine_similarity\n",
    "\n"
   ]
  },
  {
   "cell_type": "code",
   "execution_count": 2,
   "metadata": {},
   "outputs": [
    {
     "name": "stderr",
     "output_type": "stream",
     "text": [
      "2023-08-30 15:08:57.629111: I metal_plugin/src/device/metal_device.cc:1154] Metal device set to: Apple M1\n",
      "2023-08-30 15:08:57.629141: I metal_plugin/src/device/metal_device.cc:296] systemMemory: 16.00 GB\n",
      "2023-08-30 15:08:57.629149: I metal_plugin/src/device/metal_device.cc:313] maxCacheSize: 5.33 GB\n",
      "2023-08-30 15:08:57.629184: I tensorflow/core/common_runtime/pluggable_device/pluggable_device_factory.cc:303] Could not identify NUMA node of platform GPU ID 0, defaulting to 0. Your kernel may not have been built with NUMA support.\n",
      "2023-08-30 15:08:57.629203: I tensorflow/core/common_runtime/pluggable_device/pluggable_device_factory.cc:269] Created TensorFlow device (/job:localhost/replica:0/task:0/device:GPU:0 with 0 MB memory) -> physical PluggableDevice (device: 0, name: METAL, pci bus id: <undefined>)\n",
      "2023-08-30 15:09:00.673532: I tensorflow/core/grappler/optimizers/custom_graph_optimizer_registry.cc:114] Plugin optimizer for device_type GPU is enabled.\n"
     ]
    }
   ],
   "source": [
    "model_name = \"iarfmoose/t5-base-question-generator\"\n",
    "\n",
    "embed = hub.load(\"https://tfhub.dev/google/universal-sentence-encoder/4\")\n",
    "\n",
    "URL = \"https://api.openai.com/v1/chat/completions\""
   ]
  },
  {
   "cell_type": "code",
   "execution_count": 3,
   "metadata": {},
   "outputs": [],
   "source": [
    "# remove review with too many or too few words. \n",
    "df = pd.read_csv('archive/train_40k.csv')\n",
    "df['text_len'] = df['Text'].apply(len)\n",
    "df = df.sort_values('text_len', ascending=False)\n",
    "df = df.loc[df['text_len'] >= 400] # min words\n",
    "df = df.loc[df['text_len'] <= 1000] # max words"
   ]
  },
  {
   "cell_type": "code",
   "execution_count": 4,
   "metadata": {},
   "outputs": [
    {
     "data": {
      "text/plain": [
       "(array([2631., 2315., 1833., 1527., 1187.,  942.,  842.,  677.,  550.,\n",
       "         500.]),\n",
       " array([ 400.,  460.,  520.,  580.,  640.,  700.,  760.,  820.,  880.,\n",
       "         940., 1000.]),\n",
       " <BarContainer object of 10 artists>)"
      ]
     },
     "execution_count": 4,
     "metadata": {},
     "output_type": "execute_result"
    },
    {
     "data": {
      "image/png": "[encoded data removed]",
      "text/plain": [
       "<Figure size 640x480 with 1 Axes>"
      ]
     },
     "metadata": {},
     "output_type": "display_data"
    }
   ],
   "source": [
    "# historgrams of reviews by text length.\n",
    "plt.hist(df['text_len'], bins = 10)"
   ]
  },
  {
   "cell_type": "code",
   "execution_count": 5,
   "metadata": {},
   "outputs": [],
   "source": [
    "# Reduce data the individual product with the most reviews.\n",
    "most_reviewed = df.groupby('productId')['text_len'].count().idxmax()\n",
    "df = df.loc[df['productId'] == most_reviewed]"
   ]
  },
  {
   "cell_type": "code",
   "execution_count": 6,
   "metadata": {},
   "outputs": [
    {
     "data": {
      "text/plain": [
       "(array([11., 11.,  7.,  9.,  2.,  3.,  4.,  3.,  4.,  2.]),\n",
       " array([409. , 466.3, 523.6, 580.9, 638.2, 695.5, 752.8, 810.1, 867.4,\n",
       "        924.7, 982. ]),\n",
       " <BarContainer object of 10 artists>)"
      ]
     },
     "execution_count": 6,
     "metadata": {},
     "output_type": "execute_result"
    },
    {
     "data": {
      "image/png": "[encoded data removed]",
      "text/plain": [
       "<Figure size 640x480 with 1 Axes>"
      ]
     },
     "metadata": {},
     "output_type": "display_data"
    }
   ],
   "source": [
    "plt.hist(df['text_len'], bins = 10)"
   ]
  },
  {
   "cell_type": "code",
   "execution_count": 7,
   "metadata": {},
   "outputs": [
    {
     "name": "stderr",
     "output_type": "stream",
     "text": [
      "All model checkpoint layers were used when initializing TFT5ForConditionalGeneration.\n",
      "\n",
      "All the layers of TFT5ForConditionalGeneration were initialized from the model checkpoint at iarfmoose/t5-base-question-generator.\n",
      "If your task is similar to the task the model of the checkpoint was trained on, you can already use TFT5ForConditionalGeneration for predictions without further training.\n",
      "You are using the default legacy behaviour of the <class 'transformers.models.t5.tokenization_t5.T5Tokenizer'>. If you see this, DO NOT PANIC! This is expected, and simply means that the `legacy` (previous) behavior will be used so nothing changes for you. If you want to use the new behaviour, set `legacy=True`. This should only be set if you understand what it means, and thouroughly read the reason why this was added as explained in https://github.com/huggingface/transformers/pull/24565\n"
     ]
    }
   ],
   "source": [
    "question_generator = pipeline(model=model_name)"
   ]
  },
  {
   "cell_type": "code",
   "execution_count": 8,
   "metadata": {},
   "outputs": [],
   "source": [
    "# use model to generate questions potentially answered by review content.\n",
    "def generate_questions(input_text):\n",
    "    outputs = question_generator(input_text, num_return_sequences = 3, num_beams = 10, truncation=True)    \n",
    "    generated_questions = []\n",
    "    for index, question in enumerate(outputs):\n",
    "        generated_questions.append(question['generated_text'])\n",
    "    return generated_questions"
   ]
  },
  {
   "cell_type": "code",
   "execution_count": 9,
   "metadata": {},
   "outputs": [
    {
     "name": "stderr",
     "output_type": "stream",
     "text": [
      "2023-08-30 15:09:09.732452: I tensorflow/compiler/xla/service/service.cc:168] XLA service 0x295efea10 initialized for platform Host (this does not guarantee that XLA will be used). Devices:\n",
      "2023-08-30 15:09:09.732475: I tensorflow/compiler/xla/service/service.cc:176]   StreamExecutor device (0): Host, Default Version\n",
      "2023-08-30 15:09:09.736208: I tensorflow/compiler/mlir/tensorflow/utils/dump_mlir_util.cc:255] disabling MLIR crash reproducer, set env var `MLIR_CRASH_REPRODUCER_DIRECTORY` to enable.\n",
      "2023-08-30 15:09:09.749646: I ./tensorflow/compiler/jit/device_compiler.h:186] Compiled cluster using XLA!  This line is logged at most once for the lifetime of the process.\n"
     ]
    }
   ],
   "source": [
    "df['questions'] = df['Text'].apply(generate_questions)"
   ]
  },
  {
   "cell_type": "code",
   "execution_count": 10,
   "metadata": {},
   "outputs": [
    {
     "name": "stderr",
     "output_type": "stream",
     "text": [
      "2023-08-30 15:16:13.897884: I tensorflow/core/grappler/optimizers/custom_graph_optimizer_registry.cc:114] Plugin optimizer for device_type GPU is enabled.\n"
     ]
    }
   ],
   "source": [
    "def question_embedder(question_list):\n",
    "    question_embeddings = []\n",
    "    for question in question_list:\n",
    "        question_embeddings.append(embed([question]).numpy())\n",
    "    return question_embeddings\n",
    "\n",
    "df['question_embeddings'] = df['questions'].apply(question_embedder)"
   ]
  },
  {
   "cell_type": "code",
   "execution_count": 11,
   "metadata": {},
   "outputs": [],
   "source": [
    "topic = df['Title'].iloc[0]\n",
    "query = input(f'Ask us a question about our {topic}.')\n",
    "\n",
    "query_embedding = embed([query]).numpy()"
   ]
  },
  {
   "cell_type": "code",
   "execution_count": 12,
   "metadata": {},
   "outputs": [],
   "source": [
    "def embedding_similarity_test(query_embedding, embedding_list):\n",
    "    temp_similarities = []\n",
    "    for embedding in embedding_list:\n",
    "        similarity = cosine_similarity(query_embedding, embedding)\n",
    "        temp_similarities.append(similarity)\n",
    "    avg_similarity = sum(temp_similarities) / len(temp_similarities)\n",
    "    return avg_similarity\n",
    "\n",
    "df['similarity'] = df['question_embeddings'].apply(lambda x: embedding_similarity_test(query_embedding=query_embedding, embedding_list= x))"
   ]
  },
  {
   "cell_type": "code",
   "execution_count": 13,
   "metadata": {},
   "outputs": [],
   "source": [
    "df_similarity_sorted = df.sort_values(by='similarity', ascending=False)\n",
    "most_similar_indexes = df_similarity_sorted.index[:3]\n",
    "\n",
    "query_related_text = []\n",
    "for index in most_similar_indexes:\n",
    "    query_related_text.append(f\"{df['Text'].loc[index]}\")"
   ]
  },
  {
   "cell_type": "code",
   "execution_count": 14,
   "metadata": {},
   "outputs": [
    {
     "name": "stdout",
     "output_type": "stream",
     "text": [
      "API Key: Not Found\n"
     ]
    }
   ],
   "source": [
    "api_key = os.environ.get('API_KEY', 'Not Found')\n",
    "print(\"API Key:\", api_key)"
   ]
  },
  {
   "cell_type": "code",
   "execution_count": 18,
   "metadata": {},
   "outputs": [
    {
     "ename": "KeyError",
     "evalue": "'API_KEY'",
     "output_type": "error",
     "traceback": [
      "\u001b[0;31m---------------------------------------------------------------------------\u001b[0m",
      "\u001b[0;31mKeyError\u001b[0m                                  Traceback (most recent call last)",
      "Cell \u001b[0;32mIn[18], line 1\u001b[0m\n\u001b[0;32m----> 1\u001b[0m openai\u001b[39m.\u001b[39mapi_key \u001b[39m=\u001b[39m os\u001b[39m.\u001b[39;49menviron[\u001b[39m'\u001b[39;49m\u001b[39mAPI_KEY\u001b[39;49m\u001b[39m'\u001b[39;49m]\n\u001b[1;32m      3\u001b[0m prompt \u001b[39m=\u001b[39m \u001b[39mf\u001b[39m\u001b[39m'''\u001b[39m\u001b[39mYou are a firendly product expert. I ask the question \u001b[39m\u001b[39m{\u001b[39;00mquery\u001b[39m}\u001b[39;00m\u001b[39m. \u001b[39m\n\u001b[1;32m      4\u001b[0m \u001b[39mPlease read the following text: \u001b[39m\u001b[39m{\u001b[39;00mquery_related_text\u001b[39m}\u001b[39;00m\u001b[39m, and give a max 3 sentance summary \u001b[39m\n\u001b[1;32m      5\u001b[0m \u001b[39mresponse using only the text given. If the question does not seem to \u001b[39m\n\u001b[1;32m      6\u001b[0m \u001b[39mmatch with the availble information, tell me explicitly and also mention the sections \u001b[39m\n\u001b[1;32m      7\u001b[0m \u001b[39mof the question which do not match. Do not mention that you are referencing any text. \u001b[39m\n\u001b[1;32m      8\u001b[0m \u001b[39mYOU are the expert. \u001b[39m\u001b[39m'''\u001b[39m\n\u001b[1;32m     10\u001b[0m messages \u001b[39m=\u001b[39m [\n\u001b[1;32m     11\u001b[0m     {\u001b[39m\"\u001b[39m\u001b[39mrole\u001b[39m\u001b[39m\"\u001b[39m: \u001b[39m\"\u001b[39m\u001b[39msystem\u001b[39m\u001b[39m\"\u001b[39m, \u001b[39m\"\u001b[39m\u001b[39mcontent\u001b[39m\u001b[39m\"\u001b[39m: prompt},\n\u001b[1;32m     12\u001b[0m     {\u001b[39m\"\u001b[39m\u001b[39mrole\u001b[39m\u001b[39m\"\u001b[39m: \u001b[39m\"\u001b[39m\u001b[39muser\u001b[39m\u001b[39m\"\u001b[39m, \u001b[39m\"\u001b[39m\u001b[39mcontent\u001b[39m\u001b[39m\"\u001b[39m: \u001b[39m'\u001b[39m\u001b[39mstart\u001b[39m\u001b[39m'\u001b[39m}\n\u001b[1;32m     13\u001b[0m ]\n",
      "File \u001b[0;32m<frozen os>:679\u001b[0m, in \u001b[0;36m__getitem__\u001b[0;34m(self, key)\u001b[0m\n",
      "\u001b[0;31mKeyError\u001b[0m: 'API_KEY'"
     ]
    }
   ],
   "source": [
    "openai.api_key = os.environ['API_KEY']\n",
    "\n",
    "prompt = f'''You are a firendly product expert. I ask the question {query}. \n",
    "Please read the following text: {query_related_text}, and give a max 3 sentance summary \n",
    "response using only the text given. If the question does not seem to \n",
    "match with the availble information, tell me explicitly and also mention the sections \n",
    "of the question which do not match. Do not mention that you are referencing any text. \n",
    "YOU are the expert. '''\n",
    "\n",
    "messages = [\n",
    "    {\"role\": \"system\", \"content\": prompt},\n",
    "    {\"role\": \"user\", \"content\": 'start'}\n",
    "]\n",
    "\n",
    "payload = {\n",
    "    'model': 'gpt-3.5-turbo',\n",
    "    'messages': messages,\n",
    "    \"temperature\" : 1.0,\n",
    "    \"top_p\":1.0,\n",
    "    \"n\" : 1,\n",
    "    \"stream\": False,\n",
    "    \"presence_penalty\":0.1,\n",
    "    \"frequency_penalty\":0.1,\n",
    "}\n",
    "\n",
    "headers = {\n",
    "\"Content-Type\": \"application/json\",\n",
    "\"Authorization\": f\"Bearer {openai.api_key}\"\n",
    "}"
   ]
  },
  {
   "cell_type": "code",
   "execution_count": 16,
   "metadata": {},
   "outputs": [
    {
     "ename": "NameError",
     "evalue": "name 'headers' is not defined",
     "output_type": "error",
     "traceback": [
      "\u001b[0;31m---------------------------------------------------------------------------\u001b[0m",
      "\u001b[0;31mNameError\u001b[0m                                 Traceback (most recent call last)",
      "Cell \u001b[0;32mIn[16], line 1\u001b[0m\n\u001b[0;32m----> 1\u001b[0m response \u001b[39m=\u001b[39m requests\u001b[39m.\u001b[39mpost(URL, headers\u001b[39m=\u001b[39mheaders, json\u001b[39m=\u001b[39mpayload, stream\u001b[39m=\u001b[39m\u001b[39mFalse\u001b[39;00m)\n\u001b[1;32m      2\u001b[0m parsed_response \u001b[39m=\u001b[39m json\u001b[39m.\u001b[39mloads(response\u001b[39m.\u001b[39mcontent)\n\u001b[1;32m      3\u001b[0m reply \u001b[39m=\u001b[39m parsed_response[\u001b[39m'\u001b[39m\u001b[39mchoices\u001b[39m\u001b[39m'\u001b[39m][\u001b[39m0\u001b[39m][\u001b[39m'\u001b[39m\u001b[39mmessage\u001b[39m\u001b[39m'\u001b[39m]\n",
      "\u001b[0;31mNameError\u001b[0m: name 'headers' is not defined"
     ]
    }
   ],
   "source": [
    "response = requests.post(URL, headers=headers, json=payload, stream=False)\n",
    "parsed_response = json.loads(response.content)\n",
    "reply = parsed_response['choices'][0]['message']\n",
    "reply_content = reply['content']\n",
    "\n",
    "print(reply_content)\n"
   ]
  }
 ],
 "metadata": {
  "kernelspec": {
   "display_name": "venv",
   "language": "python",
   "name": "python3"
  },
  "language_info": {
   "codemirror_mode": {
    "name": "ipython",
    "version": 3
   },
   "file_extension": ".py",
   "mimetype": "text/x-python",
   "name": "python",
   "nbconvert_exporter": "python",
   "pygments_lexer": "ipython3",
   "version": "3.11.3"
  },
  "orig_nbformat": 4
 },
 "nbformat": 4,
 "nbformat_minor": 2
}
